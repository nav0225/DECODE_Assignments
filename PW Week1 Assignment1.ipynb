{
 "cells": [
  {
   "cell_type": "markdown",
   "id": "15f2c74c",
   "metadata": {},
   "source": [
    "Q1.  How can you output “Physics” and “Wallah” in two different lines in C++?"
   ]
  },
  {
   "cell_type": "code",
   "execution_count": null,
   "id": "115543af",
   "metadata": {},
   "outputs": [],
   "source": [
    "#include<iostream>\n",
    "using namespace std;\n",
    "int main(){\n",
    "    cout<<\"Physics\\nWallah\";\n",
    "    return 0;\n",
    "}\n"
   ]
  },
  {
   "cell_type": "markdown",
   "id": "b76c13c7",
   "metadata": {},
   "source": [
    "Q2. Write a program to print 10 using 2 positive numbers less than 6 in C++ as output."
   ]
  },
  {
   "cell_type": "code",
   "execution_count": null,
   "id": "8a6c3ed5",
   "metadata": {},
   "outputs": [],
   "source": [
    "#include <iostream>\n",
    "using namespace std;\n",
    "int main()\n",
    "{\n",
    "    int x = 5, y = 5;\n",
    "    cout << x + y;\n",
    "\n",
    "    return 0;\n",
    "}"
   ]
  },
  {
   "cell_type": "markdown",
   "id": "19dd6b8a",
   "metadata": {},
   "source": [
    "Q3. How much space does the following data types take?\n",
    "   int\n",
    "   bool\n",
    "   float"
   ]
  },
  {
   "cell_type": "code",
   "execution_count": null,
   "id": "6db695d3",
   "metadata": {},
   "outputs": [],
   "source": [
    "#include <iostream>\n",
    "using namespace std;\n",
    "int main()\n",
    "{\n",
    "    cout << sizeof(int) << endl;\n",
    "    cout << sizeof(bool) << endl;\n",
    "    cout << sizeof(float) << endl;\n",
    "\n",
    "    return 0;\n",
    "}"
   ]
  },
  {
   "cell_type": "markdown",
   "id": "3ab860f9",
   "metadata": {},
   "source": [
    "Q4. What is the output of this program?\n",
    "\n",
    "int main() {\n",
    "int a = 4;\n",
    "int b = 5;\n",
    "a++, b--;\n",
    "cout << ++a << \" \" << b--;\n",
    "}"
   ]
  },
  {
   "cell_type": "markdown",
   "id": "7cce6e3d",
   "metadata": {},
   "source": [
    "DRY RUN of above code\n",
    "line4: a++ makes the value of a as 5, and b-- makes the vlaue of b as 4\n",
    "line5: first a is pre-incremetned then it is printed and then b is post devremented so output will be... 6 4"
   ]
  },
  {
   "cell_type": "markdown",
   "id": "b6551226",
   "metadata": {},
   "source": [
    "Q5. Write a program to find the circumference of a circle with radius 10 in C++."
   ]
  },
  {
   "cell_type": "code",
   "execution_count": null,
   "id": "18f1c461",
   "metadata": {},
   "outputs": [],
   "source": [
    "#include<iostream>\n",
    "using namespace std;\n",
    "int main(){\n",
    "    float rad = 10;\n",
    "    float circumference;\n",
    "    \n",
    "    circumference = 2*3.1415*rad;\n",
    "    cout<< circumference;\n",
    "}"
   ]
  },
  {
   "cell_type": "markdown",
   "id": "03ab3b6a",
   "metadata": {},
   "source": [
    "Q6. How many of these can be a variable name ?\n",
    " 01Pwskills\n",
    " _FLOAT\n",
    " int\n",
    " FLOAT\n",
    " You will succeed\n",
    " \n",
    " # Answer:\n",
    "  01Pwskills is not a valid variable name.\n",
    "  _FLOAT is a valid variable name.\n",
    "  int is not a valid variable name.\n",
    "  FLOAT is a valid variable name.\n",
    "  You will succeed is not a valid variable name."
   ]
  },
  {
   "cell_type": "code",
   "execution_count": null,
   "id": "a7f3eff7",
   "metadata": {},
   "outputs": [],
   "source": []
  }
 ],
 "metadata": {
  "kernelspec": {
   "display_name": "C++17",
   "language": "C++17",
   "name": "xcpp17"
  },
  "language_info": {
   "codemirror_mode": "text/x-c++src",
   "file_extension": ".cpp",
   "mimetype": "text/x-c++src",
   "name": "c++",
   "version": "17"
  }
 },
 "nbformat": 4,
 "nbformat_minor": 5
}
