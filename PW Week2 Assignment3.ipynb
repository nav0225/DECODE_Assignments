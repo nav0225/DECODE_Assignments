{
 "cells": [
  {
   "cell_type": "markdown",
   "id": "d4eaf587",
   "metadata": {},
   "source": [
    "Q1. Print all the odd numbers from 1 to 100."
   ]
  },
  {
   "cell_type": "code",
   "execution_count": 1,
   "id": "ea3220c5",
   "metadata": {},
   "outputs": [
    {
     "name": "stderr",
     "output_type": "stream",
     "text": [
      "input_line_8:3:11: error: function definition is not allowed here\n",
      "int main(){\n",
      "          ^\n"
     ]
    },
    {
     "ename": "Interpreter Error",
     "evalue": "",
     "output_type": "error",
     "traceback": [
      "Interpreter Error: "
     ]
    }
   ],
   "source": [
    "#include<iostream>\n",
    "using namespace std;\n",
    "int main(){\n",
    "    for(int i = 1; i <= 100; i+=2){\n",
    "        cout<<i;\n",
    "    }\n",
    "}"
   ]
  },
  {
   "cell_type": "markdown",
   "id": "904fe93b",
   "metadata": {},
   "source": [
    "Q2. Print all numbers from 1 to 100 that are divisible by 3"
   ]
  },
  {
   "cell_type": "code",
   "execution_count": null,
   "id": "3bb230ce",
   "metadata": {},
   "outputs": [],
   "source": [
    "#include<iostream>\n",
    "using namespace std;\n",
    "int main(){\n",
    "    for(int i = 1; i <= 100; i++){\n",
    "        if(i%3==0){\n",
    "            cout<<i;\n",
    "        }\n",
    "    }\n",
    "}"
   ]
  },
  {
   "cell_type": "markdown",
   "id": "0b2263b4",
   "metadata": {},
   "source": [
    "Q3. Print the table of ‘n’. Here ‘n’ is an integer which the user will input."
   ]
  },
  {
   "cell_type": "code",
   "execution_count": null,
   "id": "3cfa1dfa",
   "metadata": {},
   "outputs": [],
   "source": [
    "#include <iostream>\n",
    "using namespace std;\n",
    "int main()\n",
    "{\n",
    "   int num;\n",
    "   cout << \"Enter the number: \";\n",
    "   cin >> num;\n",
    "   cout<<\"The table of \"<<num<<\" is: \\n\";\n",
    "   for (int i = 1; i <= 10; i++)\n",
    "   {\n",
    "      cout << i << \"*\" << num << \" = \" << i * num << endl;\n",
    "   }\n",
    "}"
   ]
  },
  {
   "cell_type": "markdown",
   "id": "29841115",
   "metadata": {},
   "source": [
    "Q4. Display this AP - 4,7,10,13,16.. upto ‘n’ terms."
   ]
  },
  {
   "cell_type": "code",
   "execution_count": null,
   "id": "a79a5d9e",
   "metadata": {},
   "outputs": [],
   "source": [
    "#include<iostream>\n",
    "using namespace std;\n",
    "int main(){\n",
    "    int n;\n",
    "    cin>>n;\n",
    "    int a=4;\n",
    "    for(int i = 1; i<=n; i++){\n",
    "        cout<<a;\n",
    "        a+=3;\n",
    "    }\n",
    "}"
   ]
  },
  {
   "cell_type": "markdown",
   "id": "21e4bf63",
   "metadata": {},
   "source": [
    "Q5. Display this GP - 3,12,48,.. upto ‘n’ terms."
   ]
  },
  {
   "cell_type": "code",
   "execution_count": null,
   "id": "103ec62b",
   "metadata": {},
   "outputs": [],
   "source": [
    "#include<iostream>\n",
    "using namespace std;\n",
    "int main(){\n",
    "    int n;\n",
    "    cin>>n;\n",
    "    int a=3;\n",
    "    for(int i = 1; i<=n; i++){\n",
    "        cout<<a;\n",
    "        a*=4;\n",
    "    }\n",
    "}"
   ]
  },
  {
   "cell_type": "markdown",
   "id": "7cd24e53",
   "metadata": {},
   "source": [
    "Q6. Write a program to print all the ASCII values and their equivalent characters of 26 alphabets using a\n",
    "while loop."
   ]
  },
  {
   "cell_type": "code",
   "execution_count": null,
   "id": "eba86cee",
   "metadata": {},
   "outputs": [],
   "source": [
    "#include <iostream>\n",
    "using namespace std;\n",
    "int main()\n",
    "{\n",
    "   for (int i = 65; i <= 90; i++)\n",
    "   {\n",
    "      cout << char(i) << \" \" << i << endl;\n",
    "   }\n",
    "}"
   ]
  },
  {
   "cell_type": "code",
   "execution_count": null,
   "id": "3c1077e8",
   "metadata": {},
   "outputs": [],
   "source": []
  },
  {
   "cell_type": "code",
   "execution_count": null,
   "id": "92984315",
   "metadata": {},
   "outputs": [],
   "source": []
  },
  {
   "cell_type": "code",
   "execution_count": null,
   "id": "e933b0e2",
   "metadata": {},
   "outputs": [],
   "source": []
  },
  {
   "cell_type": "code",
   "execution_count": null,
   "id": "653252a8",
   "metadata": {},
   "outputs": [],
   "source": []
  },
  {
   "cell_type": "code",
   "execution_count": null,
   "id": "44d8401b",
   "metadata": {},
   "outputs": [],
   "source": []
  }
 ],
 "metadata": {
  "kernelspec": {
   "display_name": "C++17",
   "language": "C++17",
   "name": "xcpp17"
  },
  "language_info": {
   "codemirror_mode": "text/x-c++src",
   "file_extension": ".cpp",
   "mimetype": "text/x-c++src",
   "name": "c++",
   "version": "17"
  }
 },
 "nbformat": 4,
 "nbformat_minor": 5
}
