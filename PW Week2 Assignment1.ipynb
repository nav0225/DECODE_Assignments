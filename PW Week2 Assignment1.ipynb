{
 "cells": [
  {
   "cell_type": "markdown",
   "id": "74cb3d4b-12b2-4353-b454-3f0c39281ce9",
   "metadata": {},
   "source": [
    "Q1. Take 2 integers input and print the greatest of them\r\n",
    "Input 1: a = 5 b = 7\r\n",
    "Output 1: second number 7 is the largest.\r\n",
    "Input 2: a = 12 b = 1\r\n",
    "Output 2 : first number 12 is the largest.\r\n",
    "Note : It is ensured that the two numbers will be different."
   ]
  },
  {
   "cell_type": "code",
   "execution_count": null,
   "id": "d3ffe89b-1728-4519-8066-5037c9c68bd6",
   "metadata": {},
   "outputs": [],
   "source": [
    "#include <iostream>\n",
    "using namespace std;\n",
    "int main()\n",
    "{\n",
    "    int a, b;\n",
    "    cout << \"a = \";\n",
    "    cin >> a;\n",
    "    cout << \"b = \";\n",
    "    cin >> b;\n",
    "    if (a > b)\n",
    "    {\n",
    "        cout << \"First number \" << a << \" is the greatest.\\n\";\n",
    "    }\n",
    "    else\n",
    "        cout << \"Second number \" << b << \" is the greatest.\\n\";\n",
    "}"
   ]
  },
  {
   "cell_type": "markdown",
   "id": "a3ceffa4-6b2d-47a5-934d-30c8c4c5db67",
   "metadata": {},
   "source": [
    "Q2. Given the radius of the circle, predict whether numerically the area of this circle is larger than the\r\n",
    "circumference or not.\r\n",
    "Input 1: radius = 4\r\n",
    "Output 1: Area is greater than circumference."
   ]
  },
  {
   "cell_type": "code",
   "execution_count": null,
   "id": "1f9059cf-78d8-4783-86f6-c4e9e914b489",
   "metadata": {},
   "outputs": [],
   "source": [
    "#include <iostream>\n",
    "using namespace std;\n",
    "int main()\n",
    "{\n",
    "    float radius, area, circumference;\n",
    "    cout << \"radius = \";\n",
    "    cin >> radius;\n",
    "    area = 3.14 * radius * radius;\n",
    "    circumference = 2 * 3.14 * radius;\n",
    "\n",
    "    if (area > circumference)\n",
    "    {\n",
    "        cout << \"Area is greater than circumference.\\n\";\n",
    "    }\n",
    "    else if (area < circumference)\n",
    "    {\n",
    "        cout << \"Circumference is greater than Area. \\n\";\n",
    "    }\n",
    "    else\n",
    "        cout << \"Both are equal. \\n\";\n",
    "}"
   ]
  },
  {
   "cell_type": "markdown",
   "id": "e3516fa6-d289-4e8f-a1ba-b055ad8a9d23",
   "metadata": {},
   "source": [
    "Q3. Any year is input through the keyboard. Write a program to determine whether the year is a leap year\r\n",
    "or not. (Considering leap year occurs after every 4 years)\r\n",
    "Input 1: 1976\r\n",
    "Output: yes\r\n",
    "Input 2: 2003\r\n",
    "Output: no"
   ]
  },
  {
   "cell_type": "code",
   "execution_count": null,
   "id": "3da03a88-6032-479b-b290-a463bb01b05a",
   "metadata": {},
   "outputs": [],
   "source": [
    "#include <iostream>\n",
    "using namespace std;\n",
    "int main()\n",
    "{\n",
    "    int year;\n",
    "    cin >> year;\n",
    "    if (year % 400 == 0)\n",
    "    {\n",
    "        cout << \"Yes\";\n",
    "    }\n",
    "    else if (year % 4 == 0)\n",
    "    {\n",
    "        cout << \"Yes\";\n",
    "    }\n",
    "    else\n",
    "        cout << \"No\";\n",
    "}"
   ]
  },
  {
   "cell_type": "markdown",
   "id": "bcae4f29-a120-4bf6-ac1c-4bf97148ffd4",
   "metadata": {},
   "source": [
    "Q4. Given the length and breadth of a rectangle, write a program to find whether numerically the area of\r\n",
    "the rectangle is greater than its perimeter.\r\n",
    "Input 1: length = 5 breadth = 7\r\n",
    "\r\n",
    "Output 1: Area is greater than perimeter."
   ]
  },
  {
   "cell_type": "code",
   "execution_count": null,
   "id": "09e50089-b6ec-498e-8e4b-f7974cb15fc8",
   "metadata": {},
   "outputs": [],
   "source": [
    "#include <iostream>\n",
    "using namespace std;\n",
    "int main()\n",
    "{\n",
    "    float len, breadth, area, peri;\n",
    "    cout << \"length = \";\n",
    "    cin >> len;\n",
    "    cout << \"breadth = \";\n",
    "    cin >> breadth;\n",
    "\n",
    "    area = len * breadth;\n",
    "    peri = 2 * (len + breadth);\n",
    "\n",
    "    if (area > peri)\n",
    "    {\n",
    "        cout << \"Area is greater than perimeter.\";\n",
    "    }\n",
    "    else if (peri > area)\n",
    "    {\n",
    "        cout << \"Perimeter is greater than area.\";\n",
    "    }\n",
    "    else\n",
    "        cout << \"Both are equal. \\n\";\n",
    "}"
   ]
  },
  {
   "cell_type": "markdown",
   "id": "071aebad-16fa-4627-8d4e-6cb8a461e3f8",
   "metadata": {},
   "source": [
    "Q5. Write a program to input sides of a triangle and check whether a triangle is equilateral, scalene or\r\n",
    "isosceles triangle.\r\n",
    "Input : side1 = 5 side2 = 4 side3 = 4\r\n",
    "Output: This is an Isosceles triangle."
   ]
  },
  {
   "cell_type": "code",
   "execution_count": null,
   "id": "bfb94ee3-0147-4fd0-944a-dab7870760f6",
   "metadata": {},
   "outputs": [],
   "source": [
    "#include <iostream>\n",
    "using namespace std;\n",
    "int main()\n",
    "{\n",
    "    int a, b, c;\n",
    "\n",
    "    cout << \"Side1 = \";\n",
    "    cin >> a;\n",
    "    cout << \"Side2 = \";\n",
    "    cin >> b;\n",
    "    cout << \"Side3 = \";\n",
    "    cin >> c;\n",
    "\n",
    "    if ((a + b > c) && (b + c > a) && (c + a > b))\n",
    "    {\n",
    "        if (a == b == c)\n",
    "        {\n",
    "            cout << \"This is an Equilateral triangle.\\n\";\n",
    "        }\n",
    "        else if ((a == b && a != c) || (b == c && b != a) || (c == a && c != b))\n",
    "        {\n",
    "            cout << \"This is an Isosceles triangle.\\n\";\n",
    "        }\n",
    "        else if (a != b && b != c && c != a)\n",
    "        {\n",
    "            cout << \"This is a Scalene triangle.\\n\";\n",
    "        }\n",
    "    }\n",
    "    else\n",
    "        cout << \"Sides don't form a triangle.\\n\";\n",
    "}\n"
   ]
  },
  {
   "cell_type": "markdown",
   "id": "a11f0ad3-20a2-4646-b9c0-fa8f4ae355d3",
   "metadata": {},
   "source": [
    "Q6. If the marks of A, B and C are input through the keyboard, write a program to determine the student\r\n",
    "scoring the least marks.\r\n",
    "Input 1: A = 23 , B = 34 , C = 71\r\n",
    "Output : ‘A’ has the least marks."
   ]
  },
  {
   "cell_type": "code",
   "execution_count": null,
   "id": "34ae1bbb-cc44-4cea-9add-9b3566866609",
   "metadata": {},
   "outputs": [],
   "source": [
    "#include <iostream>\n",
    "using namespace std;\n",
    "int main()\n",
    "{\n",
    "    int A, B, C;\n",
    "\n",
    "    cout << \"A = \";\n",
    "    cin >> A;\n",
    "    cout << \"B = \";\n",
    "    cin >> B;\n",
    "    cout << \"C = \";\n",
    "    cin >> C;\n",
    "\n",
    "    if (A < B && A < C)\n",
    "    {\n",
    "        cout << \"'A' has the least marks.\\n\";\n",
    "    }\n",
    "    else if (B < A && B < C)\n",
    "    {\n",
    "        cout << \"'B' has the least marks.\\n\";\n",
    "    }\n",
    "    else if (C < A && C < B)\n",
    "    {\n",
    "        cout << \"'C' had the least marks.\\n\";\n",
    "    }\n",
    "}"
   ]
  },
  {
   "cell_type": "markdown",
   "id": "cbb3e13b-82fc-471b-892a-07d6022e8c04",
   "metadata": {},
   "source": [
    "Q7. Given a point (x, y), write a program to find out if it lies on the x-axis, y-axis or at the origin, viz. (0, 0).\r\n",
    "Input 1: 2 0\r\n",
    "Output 1: the point lies on the x - axis."
   ]
  },
  {
   "cell_type": "code",
   "execution_count": null,
   "id": "2cbe5faa-9a50-41c8-8ee9-3ca543e699bb",
   "metadata": {},
   "outputs": [],
   "source": [
    "#include <iostream>\n",
    "using namespace std;\n",
    "int main()\n",
    "{\n",
    "   float x, y;\n",
    "   cin >> x >> y;\n",
    "   if (x == 0 && y == 0)\n",
    "   {\n",
    "      cout << \"the point lies on the origin.\\n\";\n",
    "   }\n",
    "   else if (x == 0 && y != 0)\n",
    "   {\n",
    "      cout << \"the point lies on the y-axis.\\n\";\n",
    "   }\n",
    "   else if (x != 0 && y == 0)\n",
    "   {\n",
    "      cout << \"the point lies on the x-axis.\\n\";\n",
    "   }\n",
    "   else\n",
    "   {\n",
    "      cout << \"point does not lie on any of the axes.\\n\";\n",
    "   }\n",
    "}"
   ]
  },
  {
   "cell_type": "markdown",
   "id": "400cbc95-68cc-481f-acbf-0f97dcf20979",
   "metadata": {},
   "source": [
    "Q8. Given three points (x1, y1), (x2, y2) and\r\n",
    "(x3, y3), write a program to check if all the three points fall on one straight line.\r\n",
    "Input 1: x1 = 1 , y1 = 2 , x2 = 2 , y2 = 3 , x3 = 3 , y3 = 4\r\n",
    "Output 1: All 3 points lie on the same line."
   ]
  },
  {
   "cell_type": "code",
   "execution_count": null,
   "id": "b3bcbf1d-c590-4503-af7d-82b0687fad33",
   "metadata": {},
   "outputs": [],
   "source": [
    "#include <iostream>\n",
    "using namespace std;\n",
    "int main()\n",
    "{\n",
    "   float x1, y1, x2, y2, x3, y3, m1, m2;\n",
    "   cout << \"x1 = \";\n",
    "   cin >> x1;\n",
    "   cout << \"y1 = \";\n",
    "   cin >> y1;\n",
    "   cout << \"x2 = \";\n",
    "   cin >> x2;\n",
    "   cout << \"y2 = \";\n",
    "   cin >> y2;\n",
    "   cout << \"x3 = \";\n",
    "   cin >> x3;\n",
    "   cout << \"y3 = \";\n",
    "   cin >> y3;\n",
    "\n",
    "   m1 = (y2 - y1) / (x2 - x1);\n",
    "   m2 = (y3 - y2) / (x3 - x2);\n",
    "\n",
    "   if (m1 == m2)\n",
    "   {\n",
    "      cout << \"All 3 points lie on the same line.\\n\";\n",
    "   }\n",
    "   else\n",
    "      cout<<\"All 3 points do not lie on the same line.\\n\";\n",
    "}"
   ]
  },
  {
   "cell_type": "code",
   "execution_count": null,
   "id": "a3ff9d5c-f3e2-4361-8f24-f7d194bdbc57",
   "metadata": {},
   "outputs": [],
   "source": [
    "Q9. Write a C++ program to input any character and check whether it is the alphabet, digit or special\n",
    "character.\n",
    "Input 1: ch = ‘9’\n",
    "Output 1: digit"
   ]
  },
  {
   "cell_type": "code",
   "execution_count": null,
   "id": "5bf3a923-b92d-47af-ad19-5473db008a1c",
   "metadata": {},
   "outputs": [],
   "source": [
    "#include <iostream>\n",
    "using namespace std;\n",
    "int main()\n",
    "{\n",
    "   char ch;\n",
    "   cout << \"ch = \";\n",
    "   cin >> ch;\n",
    "   if ((ch >= 65 && ch <= 90) || (ch >= 97 && ch <= 122))\n",
    "   {\n",
    "      cout << \"Alphabet.\\n\";\n",
    "   }\n",
    "   else if ((int)ch >= '0' && (int)ch <= '9')\n",
    "   {\n",
    "      cout << \"Digit.\\n\";\n",
    "   }\n",
    "   else\n",
    "      cout << \"Special character.\\n\";\n",
    "}"
   ]
  },
  {
   "cell_type": "code",
   "execution_count": null,
   "id": "79084bd3-f9db-49eb-88f4-59d13fbda5db",
   "metadata": {},
   "outputs": [],
   "source": [
    "Q10. Predict the output of the below code:\n",
    "\n",
    "#include<iostream>\n",
    "using namespace std;\n",
    "int main() {\n",
    "int a = 500, b, c;\n",
    "if (a >= 400)\n",
    "b = 300;\n",
    "c = 200;\n",
    "cout << \"value of b and c are respectively \" << b << \" and \" << c;\n",
    "return 0;\n",
    "}\n",
    "Answer: DRY RUN of the code\n",
    "    line5: if condition holds true so value of b is assigned to be 300 and value of c is idependent of the if condition because there are no brackets. So the output will be \n",
    "            value of b and c are respectively 300 and 200"
   ]
  }
 ],
 "metadata": {
  "kernelspec": {
   "display_name": "",
   "name": ""
  },
  "language_info": {
   "name": ""
  }
 },
 "nbformat": 4,
 "nbformat_minor": 5
}
