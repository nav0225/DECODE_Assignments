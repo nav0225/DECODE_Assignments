{
 "cells": [
  {
   "cell_type": "markdown",
   "id": "8c2f0eed",
   "metadata": {},
   "source": [
    "Q1. Find the output for this code. Let input:- 2 3 6\n",
    "\n",
    "#include <iostream>\n",
    "using namespace std;\n",
    "int main()\n",
    "{\n",
    "int x;\n",
    "cout << \"Enter first number\\n\";\n",
    "cin >> x; // user will give ‘x’ a value.\n",
    "int y, m;\n",
    "cout << \"Enter second number and value for taking modulus\\n\";\n",
    "cin >> y >> m; // user will give ‘y’ a value.\n",
    "int Z = (x * y) % m;\n",
    "cout << \"Output is: \" << Z;\n",
    "}\n",
    "    \n",
    "# Answer:\n",
    "    DRY RUN of code.\n",
    "    line 11: we have x, y, m = 2, 3, 6\n",
    "             solving brackets first we get (x*y) as 2*3 = 6\n",
    "             then we have 6%6 which will be 0.\n",
    "             therefore, vlaue of z will be 0."
   ]
  },
  {
   "cell_type": "markdown",
   "id": "80ba9a5d",
   "metadata": {},
   "source": [
    "Q2. Find the output for this code. Let input:- 3 2\n",
    "\n",
    "#include <iostream>\n",
    "using namespace std;\n",
    "int main()\n",
    "{\n",
    "int x;\n",
    "cout<<\"Enter first number\\n\";\n",
    "cin>>x; // user will give 'x' a value.\n",
    "int y;\n",
    "cout<<\"Enter second number\\n\";\n",
    "cin>>y; // user will give 'y' a value.\n",
    "cout<<(x!=y)<<\" \"<<(x>=y);\n",
    "}\n",
    "\n",
    "# Answer:\n",
    "    DRY RUN of this code:\n",
    "    line11: we have (x!=y) means (3!=2) which is True and (x>=y) which means (3>=2) which is True\n",
    "    therefore, output will be: 1 1\n",
    "     \n"
   ]
  },
  {
   "cell_type": "markdown",
   "id": "438a86ed",
   "metadata": {},
   "source": [
    "Q3. Find the output for this code. Let input:- 2 3\n",
    "\n",
    "#include <iostream>\n",
    "using namespace std;\n",
    "int main()\n",
    "{\n",
    "int x,y;\n",
    "cin>>x>>y;\n",
    "x+=y;\n",
    "x-=y;\n",
    "x%=y;\n",
    "cout<<x;\n",
    "}\n",
    "    \n",
    "# Answer:\n",
    "    line7: x+=y means x = x+y means x = 2+3 => x = 5\n",
    "    line8: x-=y means x= x-y => x = 5-3 => x = 2\n",
    "    line9: x%=y means x = x%y => x = 2%3 => x = 2\n",
    "    therefore, output will be 2"
   ]
  },
  {
   "cell_type": "markdown",
   "id": "93af4ace",
   "metadata": {},
   "source": [
    "Q4. WAP for finding the volume of the cylinder by taking radius and height as input."
   ]
  },
  {
   "cell_type": "code",
   "execution_count": null,
   "id": "8042615b",
   "metadata": {},
   "outputs": [],
   "source": [
    "#include <iostream>\n",
    "using namespace std;\n",
    "int main(){\n",
    "    float rad, height;\n",
    "    float pi = 3.14;\n",
    "    cout<<\"Enter radius and height of cylinder: \\n\";\n",
    "    cin >> rad >> height;\n",
    "    float vol;\n",
    "    vol = pi*rad*rad*height;\n",
    "    cout<< \"volume of the cylinder is: \"<< vol;\n",
    "\n",
    "    return 0;\n",
    "}"
   ]
  },
  {
   "cell_type": "markdown",
   "id": "06090570",
   "metadata": {},
   "source": [
    "Q5. WAP to find the difference between ASCII of two characters ,take them as input"
   ]
  },
  {
   "cell_type": "code",
   "execution_count": null,
   "id": "44da3116",
   "metadata": {},
   "outputs": [],
   "source": [
    "#include<iostream>\n",
    "using namespace std;\n",
    "int main(){\n",
    "    char ch1, ch2;\n",
    "    cin >> ch1 >> ch2;\n",
    "    cout<< \"Fetching ASCII values of respective characters...\\n\";\n",
    "    int x1, x2;\n",
    "    x1 = (int)ch1; x2 = (int)ch2;\n",
    "    cout<< \"Calculating difference between ASCII values...\\n\";\n",
    "    int diff;\n",
    "    diff = x1 - x2;\n",
    "    cout<< \"Difference between ASCII values of the input characters is: \"<< diff;\n",
    "\n",
    "    return 0;\n",
    "}"
   ]
  },
  {
   "cell_type": "markdown",
   "id": "643fcf50",
   "metadata": {},
   "source": [
    "Q6. Find the output of the below code\n",
    "\n",
    "#include <iostream>\n",
    "using namespace std;\n",
    "int main()\n",
    "{\n",
    "int i = ( 4 + 7 / 5 * 6 * 6+9 )% 100 ;\n",
    "cout<<i;\n",
    "}\n",
    "    \n",
    "# Answer:\n",
    "    DRY RUN of the code:\n",
    "    line 4: solve bracket ( 4 + 7 / 5 * 6 * 6+9 ) => (4 + 1*6*6 + 9) => (4 + 36 + 9) => 49\n",
    "    After this .. 49%100 => 49\n",
    "    therefore, i will give 49"
   ]
  },
  {
   "cell_type": "code",
   "execution_count": null,
   "id": "b01da0c5",
   "metadata": {},
   "outputs": [],
   "source": []
  }
 ],
 "metadata": {
  "kernelspec": {
   "display_name": "C++17",
   "language": "C++17",
   "name": "xcpp17"
  },
  "language_info": {
   "codemirror_mode": "text/x-c++src",
   "file_extension": ".cpp",
   "mimetype": "text/x-c++src",
   "name": "c++",
   "version": "17"
  }
 },
 "nbformat": 4,
 "nbformat_minor": 5
}
